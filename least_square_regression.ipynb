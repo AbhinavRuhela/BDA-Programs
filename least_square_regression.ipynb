{
 "cells": [
  {
   "cell_type": "code",
   "execution_count": 31,
   "metadata": {},
   "outputs": [
    {
     "name": "stdout",
     "output_type": "stream",
     "text": [
      "-54.30014430014427 x+ 4.028571428571427 \n",
      "-1915.6734997886504\n",
      "-1943.0978150917535\n",
      "-1970.5221303948567\n",
      "-1997.94644569796\n",
      "-2025.3707610010629\n",
      "-2052.7950763041663\n",
      "-2080.2193916072692\n",
      "-2107.6437069103727\n",
      "-2135.0680222134756\n",
      "-2162.492337516579\n",
      "-2189.916652819682\n",
      "-2217.3409681227854\n",
      "-2244.7652834258884\n",
      "-2272.1895987289918\n",
      "-2299.6139140320947\n",
      "-2327.0382293351977\n",
      "-2354.462544638301\n",
      "-2381.886859941404\n",
      "-2409.3111752445075\n",
      "-2436.7354905476104\n",
      "-2464.159805850714\n",
      "-2491.584121153817\n",
      "-2519.00843645692\n",
      "-2546.432751760023\n",
      "-2573.8570670631266\n",
      "-2601.2813823662295\n",
      "-2628.7056976693325\n",
      "-2656.1300129724355\n",
      "-2683.554328275539\n",
      "-2710.978643578642\n"
     ]
    }
   ],
   "source": [
    "import numpy as np\n",
    "import random\n",
    "a=np.linspace(0,50,100)\n",
    "b=np.linspace(0,50,100)\n",
    "x1=a[0:71]\n",
    "x2=a[70:101]\n",
    "y1=b[0:71]\n",
    "y2=b[70:101]\n",
    "s1=np.sum(x1)\n",
    "s2=np.sum(y1)\n",
    "s12=np.sum(x1*y1)\n",
    "sc=np.sum(x1*x1)\n",
    "def cal_c1(s1,s2,sc,s12,n):\n",
    "    c1=(s12-(s12/n))/((sc)-((s1**2)/n))\n",
    "    return c1\n",
    "def cal_c0(c1,s2,n,x1):\n",
    "    cx=np.sum(c1*x1)\n",
    "    c0=(s2-cx)/n\n",
    "    return c0\n",
    "def lsm(c0,c1):\n",
    "    print(f\"{c1} x+ {c0} \")\n",
    "\n",
    "n=70\n",
    "d=cal_c1(s1,s2,sc,s12,n)\n",
    "e=cal_c0(d,s2,n,x1)\n",
    "lsm(d,e)\n",
    "for i in range(0,30):\n",
    "    l=e*x2[i]+d\n",
    "    print(l)"
   ]
  },
  {
   "cell_type": "code",
   "execution_count": null,
   "metadata": {},
   "outputs": [],
   "source": []
  }
 ],
 "metadata": {
  "kernelspec": {
   "display_name": "Python 3",
   "language": "python",
   "name": "python3"
  },
  "language_info": {
   "codemirror_mode": {
    "name": "ipython",
    "version": 3
   },
   "file_extension": ".py",
   "mimetype": "text/x-python",
   "name": "python",
   "nbconvert_exporter": "python",
   "pygments_lexer": "ipython3",
   "version": "3.6.5"
  }
 },
 "nbformat": 4,
 "nbformat_minor": 2
}
