{
 "cells": [
  {
   "cell_type": "markdown",
   "metadata": {},
   "source": [
    "CREATING ADJACENCY MATRIIX"
   ]
  },
  {
   "cell_type": "code",
   "execution_count": 17,
   "metadata": {},
   "outputs": [
    {
     "name": "stdout",
     "output_type": "stream",
     "text": [
      "[[ 0  4  0  0  0  0  0  8  0]\n",
      " [ 4  0  8  0  0  0  0 11  0]\n",
      " [ 0  8  0  7  0  4  0  0  2]\n",
      " [ 0  0  7  0  9 14  0  0  0]\n",
      " [ 0  0  0  9  0 10  0  0  0]\n",
      " [ 0  0  4 14 10  0  2  0  0]\n",
      " [ 0  0  0  0  0  2  0  1  6]\n",
      " [ 8 11  0  0  0  0  1  0  7]\n",
      " [ 0  0  2  0  0  0  6  7  0]]\n"
     ]
    }
   ],
   "source": [
    "import numpy as np\n",
    "a=np.array( [[0, 4, 0, 0, 0, 0, 0, 8, 0], \n",
    "        [4, 0, 8, 0, 0, 0, 0, 11, 0], \n",
    "        [0, 8, 0, 7, 0, 4, 0, 0, 2], \n",
    "        [0, 0, 7, 0, 9, 14, 0, 0, 0], \n",
    "        [0, 0, 0, 9, 0, 10, 0, 0, 0], \n",
    "        [0, 0, 4, 14, 10, 0, 2, 0, 0], \n",
    "        [0, 0, 0, 0, 0, 2, 0, 1, 6], \n",
    "        [8, 11, 0, 0, 0, 0, 1, 0, 7], \n",
    "        [0, 0, 2, 0, 0, 0, 6, 7, 0]])\n",
    "print(a)"
   ]
  },
  {
   "cell_type": "markdown",
   "metadata": {},
   "source": [
    "ACCESS ELEMENT OF MATRIX"
   ]
  },
  {
   "cell_type": "code",
   "execution_count": 18,
   "metadata": {},
   "outputs": [
    {
     "name": "stdout",
     "output_type": "stream",
     "text": [
      "[ 4  0  8  0  0  0  0 11  0]\n",
      "4\n"
     ]
    }
   ],
   "source": [
    "el=a[1]\n",
    "print(el)\n",
    "el1=a[1,0]\n",
    "print(el1)"
   ]
  },
  {
   "cell_type": "markdown",
   "metadata": {},
   "source": [
    "ENTER ELEMENT IN A MATRIX"
   ]
  },
  {
   "cell_type": "code",
   "execution_count": 19,
   "metadata": {},
   "outputs": [
    {
     "name": "stdout",
     "output_type": "stream",
     "text": [
      "[[ 0  4  0  0  0  0  0  8  0]\n",
      " [10  0  8  0  0  0  0 11  0]\n",
      " [ 0  8  0  7  0  4  0  0  2]\n",
      " [ 0  0  7  0  9 14  0  0  0]\n",
      " [ 0  0  0  9  0 10  0  0  0]\n",
      " [ 0  0  4 14 10  0  2  0  0]\n",
      " [ 0  0  0  0  0  2  0  1  6]\n",
      " [ 8 11  0  0  0  0  1  0  7]\n",
      " [ 0  0  2  0  0  0  6  7  0]]\n"
     ]
    }
   ],
   "source": [
    "a[1,0]=10\n",
    "print(a)"
   ]
  },
  {
   "cell_type": "code",
   "execution_count": 20,
   "metadata": {},
   "outputs": [
    {
     "name": "stdout",
     "output_type": "stream",
     "text": [
      "[[ 0  4  0  0  0  0  0  8  0]\n",
      " [ 1  0  8  0  0  0  0 11  0]\n",
      " [ 0  8  0  7  0  4  0  0  2]\n",
      " [ 0  0  7  0  9 14  0  0  0]\n",
      " [ 0  0  0  9  0 10  0  0  0]\n",
      " [ 0  0  4 14 10  0  2  0  0]\n",
      " [ 0  0  0  0  0  2  0  1  6]\n",
      " [ 8 11  0  0  0  0  1  0  7]\n",
      " [ 0  0  2  0  0  0  6  7  0]]\n"
     ]
    }
   ],
   "source": [
    "a[1,0]=1\n",
    "print(a)"
   ]
  },
  {
   "cell_type": "markdown",
   "metadata": {},
   "source": [
    "ACCESS COMPLETE ROW OF A MATRIX"
   ]
  },
  {
   "cell_type": "code",
   "execution_count": 21,
   "metadata": {},
   "outputs": [
    {
     "name": "stdout",
     "output_type": "stream",
     "text": [
      "[ 1  0  8  0  0  0  0 11  0]\n",
      "[0 4 0 0 0 0 0 8 0]\n"
     ]
    }
   ],
   "source": [
    "row=a[1]\n",
    "print(row)\n",
    "row1=a[0]\n",
    "print(row1)"
   ]
  },
  {
   "cell_type": "markdown",
   "metadata": {},
   "source": [
    "FETCHING COLUMN OF MATRIX"
   ]
  },
  {
   "cell_type": "code",
   "execution_count": 22,
   "metadata": {},
   "outputs": [
    {
     "name": "stdout",
     "output_type": "stream",
     "text": [
      "Second column= [ 4  0  8  0  0  0  0 11  0]\n"
     ]
    }
   ],
   "source": [
    "r=a[:,1]\n",
    "print(\"Second column=\",r)"
   ]
  },
  {
   "cell_type": "markdown",
   "metadata": {},
   "source": [
    "DJIKSTRA PROGRAM"
   ]
  },
  {
   "cell_type": "code",
   "execution_count": 23,
   "metadata": {},
   "outputs": [
    {
     "name": "stdout",
     "output_type": "stream",
     "text": [
      "Vertex Distance from Source\n",
      "0 \t 0\n",
      "1 \t 4\n",
      "2 \t 12\n",
      "3 \t 19\n",
      "4 \t 21\n",
      "5 \t 11\n",
      "6 \t 9\n",
      "7 \t 8\n",
      "8 \t 14\n"
     ]
    }
   ],
   "source": [
    "def minDistance(dist,n,s):  \n",
    "        min =9999 \n",
    "        for v in range(n): \n",
    "            if dist[v] < min and s[v] == False: \n",
    "                min = dist[v] \n",
    "                min_index = v \n",
    "  \n",
    "        return min_index \n",
    "\n",
    "def djikstra(src,n): \n",
    "  \n",
    "        dist = [99999]*n \n",
    "        dist[src] = 0                #initializing src = 0 so that it is picked first\n",
    "        s= [False]*n\n",
    "  \n",
    "        for i in range(n):  \n",
    "            u = minDistance(dist, n, s)       #picking minimum distance value from src\n",
    "            s[u] = True                       #marking it true\n",
    "   \n",
    "            for w in range(n):                #updating distance value of all adjacent vertices of u\n",
    "                if a[u][w] > 0 and s[w] == False and dist[w] > dist[u] + a[u][w]: \n",
    "                        dist[w] = dist[u] + a[u][w] \n",
    "  \n",
    "        printSolution(dist,n) \n",
    "def printSolution( dist,n): \n",
    "        print (\"Vertex Distance from Source\")\n",
    "        for i in range(n): \n",
    "            print(i, \"\\t\", dist[i]) \n",
    "djikstra(0,len(a))"
   ]
  },
  {
   "cell_type": "code",
   "execution_count": null,
   "metadata": {},
   "outputs": [],
   "source": []
  }
 ],
 "metadata": {
  "kernelspec": {
   "display_name": "Python 3",
   "language": "python",
   "name": "python3"
  },
  "language_info": {
   "codemirror_mode": {
    "name": "ipython",
    "version": 3
   },
   "file_extension": ".py",
   "mimetype": "text/x-python",
   "name": "python",
   "nbconvert_exporter": "python",
   "pygments_lexer": "ipython3",
   "version": "3.6.5"
  }
 },
 "nbformat": 4,
 "nbformat_minor": 2
}
