{
 "cells": [
  {
   "cell_type": "markdown",
   "metadata": {},
   "source": [
    "### EIGEN VALUE AND EIGEN VECTOR"
   ]
  },
  {
   "cell_type": "code",
   "execution_count": 1,
   "metadata": {},
   "outputs": [
    {
     "name": "stdout",
     "output_type": "stream",
     "text": [
      "[2. 3. 4.]\n",
      "[[1. 0. 0.]\n",
      " [0. 1. 0.]\n",
      " [0. 0. 1.]]\n"
     ]
    }
   ],
   "source": [
    "import numpy as np\n",
    "m=np.diag((2,3,4))\n",
    "eigenv,eigen=np.linalg.eig(m)\n",
    "print(eigenv)\n",
    "print(eigen)"
   ]
  },
  {
   "cell_type": "markdown",
   "metadata": {},
   "source": [
    "### POWER ITERATION"
   ]
  },
  {
   "cell_type": "code",
   "execution_count": 4,
   "metadata": {},
   "outputs": [
    {
     "name": "stdout",
     "output_type": "stream",
     "text": [
      "Singular values::4.001693599937631\n",
      "-2.000423355177006\n",
      "[2.99967437 1.        ]\n"
     ]
    }
   ],
   "source": [
    "def norm1(x):\n",
    "    x1 = [0]*len(x)\n",
    "    for i in range(len(x)):\n",
    "        x1[i] = abs(x[i])\n",
    "    minIndex = x1.index(min(x1))\n",
    "    return x[minIndex]\n",
    "\n",
    "def dominant(A,x):\n",
    "    result = np.dot(np.dot(A,x),x)/np.dot(x,x)\n",
    "    print(f\"Singular values::{result*result}\")\n",
    "    return result\n",
    "\n",
    "def powerIteration(A):\n",
    "    x = [1,1]\n",
    "    i  = 0\n",
    "    while(i<=10):\n",
    "        \n",
    "        x1 = (np.dot(A,x))\n",
    "        x_norm = norm1(x1)\n",
    "        x = x1/x_norm\n",
    "        i = i+1\n",
    "    print(dominant(A,x))\n",
    "    return x\n",
    "\n",
    "A = [[2,-12],[1,-5]]\n",
    "a = np.array(A)\n",
    "print(powerIteration(a))"
   ]
  },
  {
   "cell_type": "code",
   "execution_count": null,
   "metadata": {},
   "outputs": [],
   "source": []
  }
 ],
 "metadata": {
  "kernelspec": {
   "display_name": "Python 3",
   "language": "python",
   "name": "python3"
  },
  "language_info": {
   "codemirror_mode": {
    "name": "ipython",
    "version": 3
   },
   "file_extension": ".py",
   "mimetype": "text/x-python",
   "name": "python",
   "nbconvert_exporter": "python",
   "pygments_lexer": "ipython3",
   "version": "3.6.5"
  }
 },
 "nbformat": 4,
 "nbformat_minor": 2
}
