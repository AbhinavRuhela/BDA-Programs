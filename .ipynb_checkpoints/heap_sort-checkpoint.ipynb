{
 "cells": [
  {
   "cell_type": "code",
   "execution_count": 2,
   "metadata": {},
   "outputs": [
    {
     "name": "stdout",
     "output_type": "stream",
     "text": [
      "Sorted array is\n",
      "1\n",
      "2\n",
      "3\n",
      "6\n",
      "7\n",
      "9\n"
     ]
    }
   ],
   "source": [
    "def left(i):\n",
    "    return 2*i+1\n",
    "def right(i):\n",
    "    return 2*i+2\n",
    "    \n",
    "def heapify(arr, n, i): \n",
    "    largest = i #root node  \n",
    "    l = left(i)  \n",
    "    r = right(i)      \n",
    "   \n",
    "    if l < n and arr[i] < arr[l]: \n",
    "        largest = l \n",
    "  \n",
    "    if r < n and arr[largest] < arr[r]: \n",
    "        largest = r \n",
    " \n",
    "    if largest != i: \n",
    "        arr[i],arr[largest] = arr[largest],arr[i]  #swapping\n",
    "        \n",
    "        heapify(arr, n, largest) \n",
    "  \n",
    "\n",
    "def build_heap(arr):\n",
    "    n=len(arr)\n",
    "    #building a max heap\n",
    "    for i in range(n, -1, -1): \n",
    "        heapify(arr, n, i)\n",
    "        \n",
    "def heapSort(arr): \n",
    "    n = len(arr) \n",
    "    build_heap(arr)\n",
    "    for i in range(n-1, 0, -1): \n",
    "        arr[i], arr[0] = arr[0], arr[i]  \n",
    "        heapify(arr, i, 0) \n",
    "  \n",
    "\n",
    "arr = [9,3,7,2,6,1] \n",
    "heapSort(arr) \n",
    "n = len(arr) \n",
    "print (\"Sorted array is\") \n",
    "for i in range(n): \n",
    "    print (arr[i]) \n"
   ]
  },
  {
   "cell_type": "code",
   "execution_count": null,
   "metadata": {},
   "outputs": [],
   "source": []
  }
 ],
 "metadata": {
  "kernelspec": {
   "display_name": "Python 3",
   "language": "python",
   "name": "python3"
  },
  "language_info": {
   "codemirror_mode": {
    "name": "ipython",
    "version": 3
   },
   "file_extension": ".py",
   "mimetype": "text/x-python",
   "name": "python",
   "nbconvert_exporter": "python",
   "pygments_lexer": "ipython3",
   "version": "3.6.5"
  }
 },
 "nbformat": 4,
 "nbformat_minor": 2
}
