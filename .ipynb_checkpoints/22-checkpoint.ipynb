{
 "cells": [
  {
   "cell_type": "code",
   "execution_count": 8,
   "metadata": {},
   "outputs": [
    {
     "name": "stdout",
     "output_type": "stream",
     "text": [
      "Yes\n",
      "Yes\n"
     ]
    }
   ],
   "source": [
    "def isSparse(arr,m, n) : \n",
    "    c=0\n",
    "    for i in range(0,m) : \n",
    "        for j in range(0,n) : \n",
    "            if (array[i][j] == 0) : \n",
    "                c =c + 1\n",
    "    if (c > ((m * n) // 2)):\n",
    "        print(\"Yes\") \n",
    "    else : \n",
    "        print(\"No\") \n",
    "\n",
    "arr1 = [ [ 0,0,0,1 ], \n",
    "          [ 0,1,0,1 ], \n",
    "          [ 0,1,0,0],\n",
    "          [0,0,2,0]] \n",
    "arr2 = [ [ 0,20,0,0 ], \n",
    "          [ 0,0,15,0 ], \n",
    "          [ 0,24,0,0],\n",
    "          [0,0,0,30]] \n",
    "\n",
    "m = 3\n",
    "n = 3\n",
    "\n",
    "isSparse(arr1,m,n)\n",
    "isSparse(arr2,m,n)"
   ]
  },
  {
   "cell_type": "code",
   "execution_count": 43,
   "metadata": {},
   "outputs": [
    {
     "name": "stdout",
     "output_type": "stream",
     "text": [
      "[[ 0  1 20]\n",
      " [ 1  2 15]\n",
      " [ 2  1 24]\n",
      " [ 3  3 30]\n",
      " [ 0  0  0]\n",
      " [ 0  0  0]]\n",
      "[[0 3 1]\n",
      " [1 3 1]\n",
      " [2 1 1]\n",
      " [3 2 2]\n",
      " [0 0 0]\n",
      " [0 0 0]]\n"
     ]
    }
   ],
   "source": [
    "import numpy as np\n",
    "def sparse(arr,m,n):\n",
    "    k=0\n",
    "    a1=np.zeros(shape=(6,3),dtype=int)\n",
    "    for i in range(0,m+1) :\n",
    "        for j in range(0,n+1) :\n",
    "            if (arr[i][j] > 0) :\n",
    "                a1[k][0]=i\n",
    "                a1[k][1]=j\n",
    "                a1[k][2]=arr[i][j]\n",
    "        k=k+1\n",
    "    return(a1)\n",
    "m=3\n",
    "n=3\n",
    "a1=sparse(arr2,m,n)\n",
    "a2=sparse(arr1,m,n)\n",
    "print(a1)\n",
    "print(a2)               "
   ]
  },
  {
   "cell_type": "code",
   "execution_count": null,
   "metadata": {},
   "outputs": [],
   "source": []
  },
  {
   "cell_type": "code",
   "execution_count": null,
   "metadata": {
    "collapsed": true
   },
   "outputs": [],
   "source": []
  }
 ],
 "metadata": {
  "kernelspec": {
   "display_name": "Python 3",
   "language": "python",
   "name": "python3"
  },
  "language_info": {
   "codemirror_mode": {
    "name": "ipython",
    "version": 3
   },
   "file_extension": ".py",
   "mimetype": "text/x-python",
   "name": "python",
   "nbconvert_exporter": "python",
   "pygments_lexer": "ipython3",
   "version": "3.6.5"
  }
 },
 "nbformat": 4,
 "nbformat_minor": 2
}
