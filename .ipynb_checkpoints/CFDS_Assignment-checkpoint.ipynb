{
 "cells": [
  {
   "cell_type": "markdown",
   "metadata": {},
   "source": [
    "### Ques 1.Consider a situation where the swap operation is quite expensive. Which sorting algorithm should be preferred so that the number of swaps are minimized in general. Justify your answer."
   ]
  },
  {
   "cell_type": "markdown",
   "metadata": {},
   "source": [
    "##### Ans.\n",
    "Selection sort should be preferred over merge,insertion and heap sort\n",
    "because it has the minimum number of swapping operaion which is equal\n",
    "to n (number of elements in the array).The time compexity of swapping \n",
    "operation in selection sort is O(n) which is the minimum in comparison\n",
    "to all the sorting algorithms.\n"
   ]
  },
  {
   "cell_type": "markdown",
   "metadata": {},
   "source": [
    "### Ques 2. Given a sorted array of integers, find the ceiling of a number y in the given array. Ceiling of y is the smallest integer in the given array which is greater than or equal to y. As for instance, consider the array {12,34,45,67,89,100}. If y=46, then ceiling of y is 67.Find out the time complexity of your program."
   ]
  },
  {
   "cell_type": "code",
   "execution_count": 13,
   "metadata": {},
   "outputs": [
    {
     "name": "stdout",
     "output_type": "stream",
     "text": [
      "Enter number for which you  have to find the ceiling:45\n",
      "67\n"
     ]
    }
   ],
   "source": [
    "import numpy as np\n",
    "a=np.array((12,34,45,67,89,100))\n",
    "y=int(input(\"Enter number for which you  have to find the ceiling:\"))\n",
    "for i in range(0,len(a)):\n",
    "    if(y==a[i]):\n",
    "        print(a[i+1])"
   ]
  },
  {
   "cell_type": "markdown",
   "metadata": {},
   "source": [
    "### Ques 3. Consider a sorted array of n numbers. Write a program to find a pair ‘a’ and ‘b’ such that the pair |a-b| = k, k being a positive integer. Find out the time complexity of your program"
   ]
  },
  {
   "cell_type": "code",
   "execution_count": 13,
   "metadata": {},
   "outputs": [
    {
     "name": "stdout",
     "output_type": "stream",
     "text": [
      "12\n",
      "34\n",
      "45\n",
      "67\n",
      "67\n",
      "89\n"
     ]
    }
   ],
   "source": [
    "import numpy as np\n",
    "a=np.array((12,34,45,67,89,100))\n",
    "k=22\n",
    "for i in range(0,len(a)):\n",
    "    for j in range(0,len(a)):\n",
    "        if((a[j]-a[i])==k):\n",
    "            print(a[i])\n",
    "            print(a[j])\n",
    "            break\n",
    "        else:\n",
    "            continue\n",
    "        "
   ]
  },
  {
   "cell_type": "code",
   "execution_count": null,
   "metadata": {},
   "outputs": [],
   "source": []
  }
 ],
 "metadata": {
  "kernelspec": {
   "display_name": "Python 3",
   "language": "python",
   "name": "python3"
  },
  "language_info": {
   "codemirror_mode": {
    "name": "ipython",
    "version": 3
   },
   "file_extension": ".py",
   "mimetype": "text/x-python",
   "name": "python",
   "nbconvert_exporter": "python",
   "pygments_lexer": "ipython3",
   "version": "3.6.5"
  }
 },
 "nbformat": 4,
 "nbformat_minor": 2
}
