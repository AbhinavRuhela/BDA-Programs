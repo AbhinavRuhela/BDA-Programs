{
 "cells": [
  {
   "cell_type": "code",
   "execution_count": 40,
   "metadata": {},
   "outputs": [],
   "source": [
    "import pandas as pd\n",
    "import numpy as np\n",
    "from scipy.spatial import distance_matrix"
   ]
  },
  {
   "cell_type": "code",
   "execution_count": 41,
   "metadata": {},
   "outputs": [
    {
     "name": "stdout",
     "output_type": "stream",
     "text": [
      "   SN PACS_CODE    PACS_NAME MILL_CODE                 MILL_NAME  Distance\n",
      "0   1  S1010101  INKARBANDHA   M010101            KRISHNA PADDY       14.9\n",
      "1   2  S1010101  INKARBANDHA   M010401             BABA GANGARAM      21.4\n",
      "2   3  S1010101  INKARBANDHA   M010201   MAA MAHESWARI RICE MILL      98.8\n",
      "3   4  S1010101  INKARBANDHA   M010302    SARALIA FOODS PVT. LTD      18.9\n",
      "4   5  S1010101  INKARBANDHA   M010301  SAI HITECH RICE INDUSTRY      22.6\n"
     ]
    }
   ],
   "source": [
    "dataset = pd.read_csv(r'C:\\Users\\HP\\Desktop\\BDA PROGRAMS\\ang_millpacsdata.csv')\n",
    "print(dataset.head()) # prints first five tuples of your data."
   ]
  },
  {
   "cell_type": "code",
   "execution_count": 42,
   "metadata": {},
   "outputs": [],
   "source": [
    "arr=np.array(dataset)"
   ]
  },
  {
   "cell_type": "code",
   "execution_count": 43,
   "metadata": {},
   "outputs": [
    {
     "data": {
      "text/plain": [
       "matrix([[1, 'S1010101', 'INKARBANDHA', 'M010101', 'KRISHNA PADDY ', 14.9],\n",
       "        [2, 'S1010101', 'INKARBANDHA', 'M010401', 'BABA GANGARAM', 21.4],\n",
       "        [3, 'S1010101', 'INKARBANDHA', 'M010201',\n",
       "         'MAA MAHESWARI RICE MILL', 98.8],\n",
       "        ...,\n",
       "        [670, 'S1010704', 'JHARBEDA ', 'M010402',\n",
       "         'MAA BHAIRABI INDUSTRIES LLP', 92.7],\n",
       "        [671, 'S1010704', 'JHARBEDA ', 'M010401', 'BABA GANGARAM', 93.4],\n",
       "        [672, 'S1010704', 'JHARBEDA ', 'M010302',\n",
       "         'SARALIA FOODS PVT. LTD', 91.2]], dtype=object)"
      ]
     },
     "execution_count": 43,
     "metadata": {},
     "output_type": "execute_result"
    }
   ],
   "source": [
    "ar=np.asmatrix(arr)\n",
    "ar"
   ]
  },
  {
   "cell_type": "code",
   "execution_count": 44,
   "metadata": {},
   "outputs": [],
   "source": [
    "uni=dataset.PACS_NAME.unique()\n",
    "uni1=dataset.MILL_NAME.unique()"
   ]
  },
  {
   "cell_type": "code",
   "execution_count": 45,
   "metadata": {},
   "outputs": [
    {
     "name": "stdout",
     "output_type": "stream",
     "text": [
      "96\n",
      "7\n"
     ]
    }
   ],
   "source": [
    "a=len(dataset.PACS_NAME.unique())\n",
    "b=len(dataset.MILL_NAME.unique())\n",
    "print(a)\n",
    "print(b)"
   ]
  },
  {
   "cell_type": "code",
   "execution_count": 59,
   "metadata": {},
   "outputs": [
    {
     "name": "stdout",
     "output_type": "stream",
     "text": [
      "0                       KRISHNA PADDY \n",
      "1                        BABA GANGARAM\n",
      "2              MAA MAHESWARI RICE MILL\n",
      "3               SARALIA FOODS PVT. LTD\n",
      "4             SAI HITECH RICE INDUSTRY\n",
      "5          MAA BHAIRABI INDUSTRIES LLP\n",
      "6      TULSHI RICETECH PRIVATE LIMITED\n",
      "7                       KRISHNA PADDY \n",
      "8          MAA BHAIRABI INDUSTRIES LLP\n",
      "9              MAA MAHESWARI RICE MILL\n",
      "10                       BABA GANGARAM\n",
      "11            SAI HITECH RICE INDUSTRY\n",
      "12     TULSHI RICETECH PRIVATE LIMITED\n",
      "13              SARALIA FOODS PVT. LTD\n",
      "14            SAI HITECH RICE INDUSTRY\n",
      "15     TULSHI RICETECH PRIVATE LIMITED\n",
      "16              SARALIA FOODS PVT. LTD\n",
      "17         MAA BHAIRABI INDUSTRIES LLP\n",
      "18             MAA MAHESWARI RICE MILL\n",
      "19                      KRISHNA PADDY \n",
      "20                       BABA GANGARAM\n",
      "21                      KRISHNA PADDY \n",
      "22            SAI HITECH RICE INDUSTRY\n",
      "23              SARALIA FOODS PVT. LTD\n",
      "24             MAA MAHESWARI RICE MILL\n",
      "25                       BABA GANGARAM\n",
      "26     TULSHI RICETECH PRIVATE LIMITED\n",
      "27         MAA BHAIRABI INDUSTRIES LLP\n",
      "28     TULSHI RICETECH PRIVATE LIMITED\n",
      "29            SAI HITECH RICE INDUSTRY\n",
      "                    ...               \n",
      "642           SAI HITECH RICE INDUSTRY\n",
      "643            MAA MAHESWARI RICE MILL\n",
      "644            MAA MAHESWARI RICE MILL\n",
      "645           SAI HITECH RICE INDUSTRY\n",
      "646    TULSHI RICETECH PRIVATE LIMITED\n",
      "647                      BABA GANGARAM\n",
      "648                     KRISHNA PADDY \n",
      "649        MAA BHAIRABI INDUSTRIES LLP\n",
      "650             SARALIA FOODS PVT. LTD\n",
      "651           SAI HITECH RICE INDUSTRY\n",
      "652                     KRISHNA PADDY \n",
      "653            MAA MAHESWARI RICE MILL\n",
      "654                      BABA GANGARAM\n",
      "655        MAA BHAIRABI INDUSTRIES LLP\n",
      "656    TULSHI RICETECH PRIVATE LIMITED\n",
      "657             SARALIA FOODS PVT. LTD\n",
      "658        MAA BHAIRABI INDUSTRIES LLP\n",
      "659                      BABA GANGARAM\n",
      "660             SARALIA FOODS PVT. LTD\n",
      "661    TULSHI RICETECH PRIVATE LIMITED\n",
      "662            MAA MAHESWARI RICE MILL\n",
      "663           SAI HITECH RICE INDUSTRY\n",
      "664                     KRISHNA PADDY \n",
      "665            MAA MAHESWARI RICE MILL\n",
      "666                     KRISHNA PADDY \n",
      "667    TULSHI RICETECH PRIVATE LIMITED\n",
      "668           SAI HITECH RICE INDUSTRY\n",
      "669        MAA BHAIRABI INDUSTRIES LLP\n",
      "670                      BABA GANGARAM\n",
      "671             SARALIA FOODS PVT. LTD\n",
      "Name: MILL_NAME, Length: 672, dtype: object\n",
      "0       14.9\n",
      "1       21.4\n",
      "2       98.8\n",
      "3       18.9\n",
      "4       22.6\n",
      "5       20.7\n",
      "6       19.8\n",
      "7       12.7\n",
      "8       15.3\n",
      "9       98.0\n",
      "10      16.1\n",
      "11      21.8\n",
      "12       9.6\n",
      "13      13.5\n",
      "14       9.2\n",
      "15      20.6\n",
      "16       8.2\n",
      "17      10.1\n",
      "18      85.4\n",
      "19       1.7\n",
      "20      10.8\n",
      "21       6.8\n",
      "22       5.0\n",
      "23      10.4\n",
      "24      81.1\n",
      "25      13.0\n",
      "26      25.7\n",
      "27      12.3\n",
      "28      31.1\n",
      "29      16.8\n",
      "       ...  \n",
      "642     18.4\n",
      "643     94.6\n",
      "644     91.6\n",
      "645     15.4\n",
      "646     21.1\n",
      "647      4.7\n",
      "648      9.0\n",
      "649      4.0\n",
      "650      2.2\n",
      "651     86.6\n",
      "652     78.3\n",
      "653    166.0\n",
      "654     74.2\n",
      "655     73.5\n",
      "656     73.3\n",
      "657     72.0\n",
      "658     59.5\n",
      "659     58.8\n",
      "660     62.2\n",
      "661     77.4\n",
      "662     37.6\n",
      "663     47.6\n",
      "664     58.5\n",
      "665    185.0\n",
      "666     97.5\n",
      "667     92.5\n",
      "668    106.0\n",
      "669     92.7\n",
      "670     93.4\n",
      "671     91.2\n",
      "Name: Distance, Length: 672, dtype: float64\n"
     ]
    }
   ],
   "source": [
    "data_dict = dataset.to_dict()\n",
    "print(dataset['MILL_NAME'])\n",
    "print(dataset['Distance'])"
   ]
  },
  {
   "cell_type": "code",
   "execution_count": 98,
   "metadata": {},
   "outputs": [
    {
     "data": {
      "text/plain": [
       "[[185.0, 97.5, 92.5, 106.0, 92.7, 93.4, 91.2],\n",
       " [185.0, 97.5, 92.5, 106.0, 92.7, 93.4, 91.2],\n",
       " [185.0, 97.5, 92.5, 106.0, 92.7, 93.4, 91.2],\n",
       " [185.0, 97.5, 92.5, 106.0, 92.7, 93.4, 91.2],\n",
       " [185.0, 97.5, 92.5, 106.0, 92.7, 93.4, 91.2],\n",
       " [185.0, 97.5, 92.5, 106.0, 92.7, 93.4, 91.2],\n",
       " [185.0, 97.5, 92.5, 106.0, 92.7, 93.4, 91.2],\n",
       " [185.0, 97.5, 92.5, 106.0, 92.7, 93.4, 91.2],\n",
       " [185.0, 97.5, 92.5, 106.0, 92.7, 93.4, 91.2],\n",
       " [185.0, 97.5, 92.5, 106.0, 92.7, 93.4, 91.2],\n",
       " [185.0, 97.5, 92.5, 106.0, 92.7, 93.4, 91.2],\n",
       " [185.0, 97.5, 92.5, 106.0, 92.7, 93.4, 91.2],\n",
       " [185.0, 97.5, 92.5, 106.0, 92.7, 93.4, 91.2],\n",
       " [185.0, 97.5, 92.5, 106.0, 92.7, 93.4, 91.2],\n",
       " [185.0, 97.5, 92.5, 106.0, 92.7, 93.4, 91.2],\n",
       " [185.0, 97.5, 92.5, 106.0, 92.7, 93.4, 91.2],\n",
       " [185.0, 97.5, 92.5, 106.0, 92.7, 93.4, 91.2],\n",
       " [185.0, 97.5, 92.5, 106.0, 92.7, 93.4, 91.2],\n",
       " [185.0, 97.5, 92.5, 106.0, 92.7, 93.4, 91.2],\n",
       " [185.0, 97.5, 92.5, 106.0, 92.7, 93.4, 91.2],\n",
       " [185.0, 97.5, 92.5, 106.0, 92.7, 93.4, 91.2],\n",
       " [185.0, 97.5, 92.5, 106.0, 92.7, 93.4, 91.2],\n",
       " [185.0, 97.5, 92.5, 106.0, 92.7, 93.4, 91.2],\n",
       " [185.0, 97.5, 92.5, 106.0, 92.7, 93.4, 91.2],\n",
       " [185.0, 97.5, 92.5, 106.0, 92.7, 93.4, 91.2],\n",
       " [185.0, 97.5, 92.5, 106.0, 92.7, 93.4, 91.2],\n",
       " [185.0, 97.5, 92.5, 106.0, 92.7, 93.4, 91.2],\n",
       " [185.0, 97.5, 92.5, 106.0, 92.7, 93.4, 91.2],\n",
       " [185.0, 97.5, 92.5, 106.0, 92.7, 93.4, 91.2],\n",
       " [185.0, 97.5, 92.5, 106.0, 92.7, 93.4, 91.2],\n",
       " [185.0, 97.5, 92.5, 106.0, 92.7, 93.4, 91.2],\n",
       " [185.0, 97.5, 92.5, 106.0, 92.7, 93.4, 91.2],\n",
       " [185.0, 97.5, 92.5, 106.0, 92.7, 93.4, 91.2],\n",
       " [185.0, 97.5, 92.5, 106.0, 92.7, 93.4, 91.2],\n",
       " [185.0, 97.5, 92.5, 106.0, 92.7, 93.4, 91.2],\n",
       " [185.0, 97.5, 92.5, 106.0, 92.7, 93.4, 91.2],\n",
       " [185.0, 97.5, 92.5, 106.0, 92.7, 93.4, 91.2],\n",
       " [185.0, 97.5, 92.5, 106.0, 92.7, 93.4, 91.2],\n",
       " [185.0, 97.5, 92.5, 106.0, 92.7, 93.4, 91.2],\n",
       " [185.0, 97.5, 92.5, 106.0, 92.7, 93.4, 91.2],\n",
       " [185.0, 97.5, 92.5, 106.0, 92.7, 93.4, 91.2],\n",
       " [185.0, 97.5, 92.5, 106.0, 92.7, 93.4, 91.2],\n",
       " [185.0, 97.5, 92.5, 106.0, 92.7, 93.4, 91.2],\n",
       " [185.0, 97.5, 92.5, 106.0, 92.7, 93.4, 91.2],\n",
       " [185.0, 97.5, 92.5, 106.0, 92.7, 93.4, 91.2],\n",
       " [185.0, 97.5, 92.5, 106.0, 92.7, 93.4, 91.2],\n",
       " [185.0, 97.5, 92.5, 106.0, 92.7, 93.4, 91.2],\n",
       " [185.0, 97.5, 92.5, 106.0, 92.7, 93.4, 91.2],\n",
       " [185.0, 97.5, 92.5, 106.0, 92.7, 93.4, 91.2],\n",
       " [185.0, 97.5, 92.5, 106.0, 92.7, 93.4, 91.2],\n",
       " [185.0, 97.5, 92.5, 106.0, 92.7, 93.4, 91.2],\n",
       " [185.0, 97.5, 92.5, 106.0, 92.7, 93.4, 91.2],\n",
       " [185.0, 97.5, 92.5, 106.0, 92.7, 93.4, 91.2],\n",
       " [185.0, 97.5, 92.5, 106.0, 92.7, 93.4, 91.2],\n",
       " [185.0, 97.5, 92.5, 106.0, 92.7, 93.4, 91.2],\n",
       " [185.0, 97.5, 92.5, 106.0, 92.7, 93.4, 91.2],\n",
       " [185.0, 97.5, 92.5, 106.0, 92.7, 93.4, 91.2],\n",
       " [185.0, 97.5, 92.5, 106.0, 92.7, 93.4, 91.2],\n",
       " [185.0, 97.5, 92.5, 106.0, 92.7, 93.4, 91.2],\n",
       " [185.0, 97.5, 92.5, 106.0, 92.7, 93.4, 91.2],\n",
       " [185.0, 97.5, 92.5, 106.0, 92.7, 93.4, 91.2],\n",
       " [185.0, 97.5, 92.5, 106.0, 92.7, 93.4, 91.2],\n",
       " [185.0, 97.5, 92.5, 106.0, 92.7, 93.4, 91.2],\n",
       " [185.0, 97.5, 92.5, 106.0, 92.7, 93.4, 91.2],\n",
       " [185.0, 97.5, 92.5, 106.0, 92.7, 93.4, 91.2],\n",
       " [185.0, 97.5, 92.5, 106.0, 92.7, 93.4, 91.2],\n",
       " [185.0, 97.5, 92.5, 106.0, 92.7, 93.4, 91.2],\n",
       " [185.0, 97.5, 92.5, 106.0, 92.7, 93.4, 91.2],\n",
       " [185.0, 97.5, 92.5, 106.0, 92.7, 93.4, 91.2],\n",
       " [185.0, 97.5, 92.5, 106.0, 92.7, 93.4, 91.2],\n",
       " [185.0, 97.5, 92.5, 106.0, 92.7, 93.4, 91.2],\n",
       " [185.0, 97.5, 92.5, 106.0, 92.7, 93.4, 91.2],\n",
       " [185.0, 97.5, 92.5, 106.0, 92.7, 93.4, 91.2],\n",
       " [185.0, 97.5, 92.5, 106.0, 92.7, 93.4, 91.2],\n",
       " [185.0, 97.5, 92.5, 106.0, 92.7, 93.4, 91.2],\n",
       " [185.0, 97.5, 92.5, 106.0, 92.7, 93.4, 91.2],\n",
       " [185.0, 97.5, 92.5, 106.0, 92.7, 93.4, 91.2],\n",
       " [185.0, 97.5, 92.5, 106.0, 92.7, 93.4, 91.2],\n",
       " [185.0, 97.5, 92.5, 106.0, 92.7, 93.4, 91.2],\n",
       " [185.0, 97.5, 92.5, 106.0, 92.7, 93.4, 91.2],\n",
       " [185.0, 97.5, 92.5, 106.0, 92.7, 93.4, 91.2],\n",
       " [185.0, 97.5, 92.5, 106.0, 92.7, 93.4, 91.2],\n",
       " [185.0, 97.5, 92.5, 106.0, 92.7, 93.4, 91.2],\n",
       " [185.0, 97.5, 92.5, 106.0, 92.7, 93.4, 91.2],\n",
       " [185.0, 97.5, 92.5, 106.0, 92.7, 93.4, 91.2],\n",
       " [185.0, 97.5, 92.5, 106.0, 92.7, 93.4, 91.2],\n",
       " [185.0, 97.5, 92.5, 106.0, 92.7, 93.4, 91.2],\n",
       " [185.0, 97.5, 92.5, 106.0, 92.7, 93.4, 91.2],\n",
       " [185.0, 97.5, 92.5, 106.0, 92.7, 93.4, 91.2],\n",
       " [185.0, 97.5, 92.5, 106.0, 92.7, 93.4, 91.2],\n",
       " [185.0, 97.5, 92.5, 106.0, 92.7, 93.4, 91.2],\n",
       " [185.0, 97.5, 92.5, 106.0, 92.7, 93.4, 91.2],\n",
       " [185.0, 97.5, 92.5, 106.0, 92.7, 93.4, 91.2],\n",
       " [185.0, 97.5, 92.5, 106.0, 92.7, 93.4, 91.2],\n",
       " [185.0, 97.5, 92.5, 106.0, 92.7, 93.4, 91.2],\n",
       " [185.0, 97.5, 92.5, 106.0, 92.7, 93.4, 91.2]]"
      ]
     },
     "execution_count": 98,
     "metadata": {},
     "output_type": "execute_result"
    }
   ],
   "source": [
    "dist= [[0] *7] * 96\n",
    "k=0\n",
    "for i in range(96):\n",
    "    for j in range(7):\n",
    "        if(k<672):\n",
    "            dist[i][j]=(dataset.Distance[k])\n",
    "            k=k+1\n",
    "        elif(k>672):\n",
    "            break\n",
    "dist\n"
   ]
  },
  {
   "cell_type": "code",
   "execution_count": null,
   "metadata": {},
   "outputs": [],
   "source": []
  }
 ],
 "metadata": {
  "kernelspec": {
   "display_name": "Python 3",
   "language": "python",
   "name": "python3"
  },
  "language_info": {
   "codemirror_mode": {
    "name": "ipython",
    "version": 3
   },
   "file_extension": ".py",
   "mimetype": "text/x-python",
   "name": "python",
   "nbconvert_exporter": "python",
   "pygments_lexer": "ipython3",
   "version": "3.6.5"
  }
 },
 "nbformat": 4,
 "nbformat_minor": 2
}
