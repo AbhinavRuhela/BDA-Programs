{
 "cells": [
  {
   "cell_type": "code",
   "execution_count": 4,
   "metadata": {},
   "outputs": [
    {
     "name": "stdout",
     "output_type": "stream",
     "text": [
      "[ 0.81218184 -0.66497519]\n"
     ]
    }
   ],
   "source": [
    "import numpy as np\n",
    "A=np.array([[16,3],[7,-11]])\n",
    "b=[11,13]\n",
    "x=[1,1]\n",
    "L=np.array([[16,0],[7,-11]])\n",
    "U=np.array([[0,3],[0,0]])\n",
    "i=1\n",
    "T=np.dot(np.linalg.inv(L),U)\n",
    "C=np.dot(np.linalg.inv(L),b)\n",
    "\n",
    "while True:\n",
    "    x1=np.dot(-T,x)+C\n",
    "    if np.allclose(x1,x):\n",
    "        res=x1\n",
    "        break\n",
    "    x=x1\n",
    "print(x)"
   ]
  },
  {
   "cell_type": "code",
   "execution_count": null,
   "metadata": {},
   "outputs": [],
   "source": []
  },
  {
   "cell_type": "code",
   "execution_count": null,
   "metadata": {},
   "outputs": [],
   "source": []
  }
 ],
 "metadata": {
  "kernelspec": {
   "display_name": "Python 3",
   "language": "python",
   "name": "python3"
  },
  "language_info": {
   "codemirror_mode": {
    "name": "ipython",
    "version": 3
   },
   "file_extension": ".py",
   "mimetype": "text/x-python",
   "name": "python",
   "nbconvert_exporter": "python",
   "pygments_lexer": "ipython3",
   "version": "3.6.5"
  }
 },
 "nbformat": 4,
 "nbformat_minor": 2
}
