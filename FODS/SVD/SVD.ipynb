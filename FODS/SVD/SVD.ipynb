{
 "cells": [
  {
   "cell_type": "code",
   "execution_count": 21,
   "metadata": {},
   "outputs": [
    {
     "name": "stdout",
     "output_type": "stream",
     "text": [
      "[[2 4]\n",
      " [1 3]\n",
      " [0 0]\n",
      " [0 0]]\n",
      "(4, 2)\n"
     ]
    }
   ],
   "source": [
    "import numpy as np\n",
    "A=np.array([[2,4],[1,3],[0,0],[0,0]])\n",
    "print(A)\n",
    "data_shape=A.shape\n",
    "print(data_shape)"
   ]
  },
  {
   "cell_type": "code",
   "execution_count": 22,
   "metadata": {},
   "outputs": [],
   "source": [
    "w1=A.dot(A.T)\n",
    "w2=(A.T).dot(A)\n",
    "eval1,evec1=np.linalg.eig(w1)\n",
    "eval2,evec2=np.linalg.eig(w2)"
   ]
  },
  {
   "cell_type": "markdown",
   "metadata": {},
   "source": [
    "# Sorting the eigen vector via eigen values"
   ]
  },
  {
   "cell_type": "code",
   "execution_count": 23,
   "metadata": {},
   "outputs": [
    {
     "name": "stdout",
     "output_type": "stream",
     "text": [
      "[29.86606875  0.13393125  0.          0.        ]\n",
      "[[ 0.81741556 -0.57604844  0.          0.        ]\n",
      " [ 0.57604844  0.81741556  0.          0.        ]\n",
      " [ 0.          0.          0.          1.        ]\n",
      " [ 0.          0.          1.          0.        ]]\n",
      "[29.86606875  0.13393125]\n",
      "[[ 0.40455358 -0.9145143 ]\n",
      " [-0.9145143  -0.40455358]]\n",
      "(4, 4)\n",
      "(2, 2)\n"
     ]
    }
   ],
   "source": [
    "idx1=eval1.argsort()[::-1]\n",
    "eval1=eval1[idx1]\n",
    "evec1=evec1[idx1]\n",
    "print(eval1)\n",
    "print(evec1)\n",
    "\n",
    "idx2=eval2.argsort()[::-1]\n",
    "eval2=eval2[idx2]\n",
    "evec2=evec2[idx2]\n",
    "print(eval2)\n",
    "print(evec2)\n",
    "\n",
    "a=evec1.shape\n",
    "b=evec2.shape\n",
    "\n",
    "print(a)\n",
    "print(b)"
   ]
  },
  {
   "cell_type": "code",
   "execution_count": 24,
   "metadata": {},
   "outputs": [
    {
     "name": "stdout",
     "output_type": "stream",
     "text": [
      "[[ 0.81741556 -0.57604844  0.          0.        ]\n",
      " [ 0.57604844  0.81741556  0.          0.        ]\n",
      " [ 0.          0.          0.          1.        ]\n",
      " [ 0.          0.          1.          0.        ]]\n",
      "[[ 0.40455358 -0.9145143 ]\n",
      " [-0.9145143  -0.40455358]]\n",
      "[[5.4649857  0.        ]\n",
      " [0.         0.36596619]\n",
      " [0.         0.        ]\n",
      " [0.         0.        ]]\n"
     ]
    }
   ],
   "source": [
    "U=evec1\n",
    "V=evec2\n",
    "S=np.diag(np.sqrt(eval2))\n",
    "S.resize(data_shape[0],data_shape[1])\n",
    "print(U)\n",
    "print(V)\n",
    "print(S)"
   ]
  },
  {
   "cell_type": "code",
   "execution_count": 25,
   "metadata": {},
   "outputs": [
    {
     "name": "stdout",
     "output_type": "stream",
     "text": [
      "[[ 2. -4.]\n",
      " [ 1. -3.]\n",
      " [ 0.  0.]\n",
      " [ 0.  0.]]\n"
     ]
    }
   ],
   "source": [
    "mat=np.dot(U,S)\n",
    "mat1=np.dot(mat,(V.T))\n",
    "print(mat1)"
   ]
  },
  {
   "cell_type": "code",
   "execution_count": null,
   "metadata": {},
   "outputs": [],
   "source": []
  }
 ],
 "metadata": {
  "kernelspec": {
   "display_name": "Python 3",
   "language": "python",
   "name": "python3"
  },
  "language_info": {
   "codemirror_mode": {
    "name": "ipython",
    "version": 3
   },
   "file_extension": ".py",
   "mimetype": "text/x-python",
   "name": "python",
   "nbconvert_exporter": "python",
   "pygments_lexer": "ipython3",
   "version": "3.6.5"
  }
 },
 "nbformat": 4,
 "nbformat_minor": 2
}
