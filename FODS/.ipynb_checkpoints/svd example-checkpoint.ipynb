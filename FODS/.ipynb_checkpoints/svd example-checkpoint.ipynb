{
 "cells": [
  {
   "cell_type": "code",
   "execution_count": 2,
   "metadata": {},
   "outputs": [
    {
     "name": "stdout",
     "output_type": "stream",
     "text": [
      "[[ 3  2  2]\n",
      " [ 2  3 -2]]\n",
      "(2, 3)\n",
      "[25.  9.]\n",
      "[[ 0.70710678 -0.70710678]\n",
      " [ 0.70710678  0.70710678]]\n",
      "[2.50000000e+01 9.00000000e+00 3.61082692e-15]\n",
      "[[-7.07106781e-01 -6.66666667e-01  2.35702260e-01]\n",
      " [-1.16614446e-17  3.33333333e-01  9.42809042e-01]\n",
      " [-7.07106781e-01  6.66666667e-01 -2.35702260e-01]]\n",
      "(2, 2)\n",
      "(3, 3)\n",
      "[[ 0.70710678 -0.70710678]\n",
      " [ 0.70710678  0.70710678]]\n",
      "[[-7.07106781e-01 -6.66666667e-01  2.35702260e-01]\n",
      " [-1.16614446e-17  3.33333333e-01  9.42809042e-01]\n",
      " [-7.07106781e-01  6.66666667e-01 -2.35702260e-01]]\n",
      "[[5. 0. 0.]\n",
      " [0. 3. 0.]]\n",
      "[[-1.08578644 -0.70710678 -3.91421356]\n",
      " [-3.91421356  0.70710678 -1.08578644]]\n"
     ]
    }
   ],
   "source": [
    "import numpy as np\n",
    "A=np.array([[3,2,2],[2,3,-2]])\n",
    "print(A)\n",
    "data_shape=A.shape\n",
    "print(data_shape)\n",
    "w1=A.dot(A.T)\n",
    "w2=A.T.dot(A)\n",
    "eval1,evec1=np.linalg.eig(w1)\n",
    "eval2,evec2=np.linalg.eig(w2)\n",
    "idx1=eval1.argsort()[::-1]\n",
    "eval1=eval1[idx1]\n",
    "evec1=evec1[idx1]\n",
    "print(eval1)\n",
    "print(evec1)\n",
    "\n",
    "idx2=eval2.argsort()[::-1]\n",
    "eval2=eval2[idx2]\n",
    "evec2=evec2[idx2]\n",
    "print(eval2)\n",
    "print(evec2)\n",
    "\n",
    "a=evec1.shape\n",
    "b=evec2.shape\n",
    "\n",
    "print(a)\n",
    "print(b)\n",
    "U=evec1\n",
    "V=evec2\n",
    "S=np.diag(np.sqrt(eval2))\n",
    "S.resize(data_shape[0],data_shape[1])\n",
    "print(U)\n",
    "print(V)\n",
    "print(S)\n",
    "mat=np.dot(U,S)\n",
    "mat1=np.dot(mat,(V.T))\n",
    "print(mat1)"
   ]
  },
  {
   "cell_type": "code",
   "execution_count": null,
   "metadata": {},
   "outputs": [],
   "source": []
  }
 ],
 "metadata": {
  "kernelspec": {
   "display_name": "Python 3",
   "language": "python",
   "name": "python3"
  },
  "language_info": {
   "codemirror_mode": {
    "name": "ipython",
    "version": 3
   },
   "file_extension": ".py",
   "mimetype": "text/x-python",
   "name": "python",
   "nbconvert_exporter": "python",
   "pygments_lexer": "ipython3",
   "version": "3.6.5"
  }
 },
 "nbformat": 4,
 "nbformat_minor": 2
}
