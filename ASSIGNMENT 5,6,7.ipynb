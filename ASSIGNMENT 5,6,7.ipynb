{
 "cells": [
  {
   "cell_type": "code",
   "execution_count": 8,
   "metadata": {},
   "outputs": [
    {
     "name": "stdout",
     "output_type": "stream",
     "text": [
      "Frequency of this is : 2\n",
      "Frequency of is is : 3\n",
      "Frequency of a is : 8\n",
      "Frequency of string is : 1\n"
     ]
    }
   ],
   "source": [
    "def freq(str1):\n",
    "    str = str1.split()          \n",
    "    str2 = [] \n",
    "   \n",
    "    for i in str:               \n",
    "        if i not in str2:  \n",
    "            str2.append(i)  \n",
    "              \n",
    "    for i in range(0, len(str2)):  \n",
    "        print('Frequency of', str2[i], 'is :', str.count(str2[i]))     \n",
    "   \n",
    "str='this this is is is a a a a a a a a string'\n",
    "freq(str)                \n",
    "    "
   ]
  },
  {
   "cell_type": "code",
   "execution_count": 10,
   "metadata": {},
   "outputs": [
    {
     "name": "stdout",
     "output_type": "stream",
     "text": [
      "['ABCD', 'ABDC', 'ACBD', 'ACDB', 'ADBC', 'ADCB', 'BACD', 'BADC', 'BCAD', 'BCDA', 'BDAC', 'BDCA', 'CABD', 'CADB', 'CBAD', 'CBDA', 'CDAB', 'CDBA', 'DABC', 'DACB', 'DBAC', 'DBCA', 'DCAB', 'DCBA']\n"
     ]
    }
   ],
   "source": [
    "from itertools import permutations\n",
    "def permut(str):\n",
    "    p=[''.join(p) for p in permutations(str)]\n",
    "    print(p)\n",
    "s=\"ABCD\"\n",
    "permut(s)"
   ]
  },
  {
   "cell_type": "code",
   "execution_count": 12,
   "metadata": {},
   "outputs": [
    {
     "name": "stdout",
     "output_type": "stream",
     "text": [
      "Sorted list:\n",
      "[12, 32, 45, 48, 56, 64, 67, 78]\n"
     ]
    }
   ],
   "source": [
    "def quicksort(A, start, end):\n",
    "    if end - start > 1:\n",
    "        p = partition(A, start, end)\n",
    "        quicksort(A, start, p)\n",
    "        quicksort(A, p + 1, end)\n",
    "def partition(A, start, end):\n",
    "    pivot = A[start]\n",
    "    i = start + 1\n",
    "    j = end - 1\n",
    " \n",
    "    while True:\n",
    "        while (i <= j and A[i] <= pivot):\n",
    "            i = i + 1\n",
    "        while (i <= j and A[j] >= pivot):\n",
    "            j = j - 1\n",
    " \n",
    "        if i <= j:\n",
    "            A[i], A[j] = A[j], A[i]\n",
    "        else:\n",
    "            A[start], A[j] = A[j], A[start]\n",
    "            return j\n",
    " \n",
    " \n",
    "A=[64,48,56,78,32,12,45,67]\n",
    "quicksort(A, 0, len(A))\n",
    "print('Sorted list:')\n",
    "print(A)"
   ]
  },
  {
   "cell_type": "code",
   "execution_count": null,
   "metadata": {},
   "outputs": [],
   "source": []
  }
 ],
 "metadata": {
  "kernelspec": {
   "display_name": "Python 3",
   "language": "python",
   "name": "python3"
  },
  "language_info": {
   "codemirror_mode": {
    "name": "ipython",
    "version": 3
   },
   "file_extension": ".py",
   "mimetype": "text/x-python",
   "name": "python",
   "nbconvert_exporter": "python",
   "pygments_lexer": "ipython3",
   "version": "3.6.5"
  }
 },
 "nbformat": 4,
 "nbformat_minor": 2
}
