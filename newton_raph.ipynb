{
 "cells": [
  {
   "cell_type": "code",
   "execution_count": 3,
   "metadata": {},
   "outputs": [
    {
     "name": "stdout",
     "output_type": "stream",
     "text": [
      "The value of root is :  1.500000\n",
      "The value of root is :  1.347826\n",
      "The value of root is :  1.325200\n",
      "The value of root is :  1.324718\n",
      "The value of root is :  1.324718\n"
     ]
    }
   ],
   "source": [
    "def f(x):\n",
    "    return x*x*x-x-1\n",
    "def f1(x):\n",
    "    return 3*x*x-1\n",
    "def newton_raph(x):\n",
    "    h=f(x)/f1(x)\n",
    "    while(abs(h)>=0.00001):\n",
    "        h=f(x)/f1(x)\n",
    "        x=x-h\n",
    "        print(\"The value of root is : \", \"%f\" %x)\n",
    "        \n",
    "x0=1\n",
    "newton_raph(x0)\n",
    "    "
   ]
  },
  {
   "cell_type": "code",
   "execution_count": null,
   "metadata": {
    "collapsed": true
   },
   "outputs": [],
   "source": []
  }
 ],
 "metadata": {
  "kernelspec": {
   "display_name": "Python 3",
   "language": "python",
   "name": "python3"
  },
  "language_info": {
   "codemirror_mode": {
    "name": "ipython",
    "version": 3
   },
   "file_extension": ".py",
   "mimetype": "text/x-python",
   "name": "python",
   "nbconvert_exporter": "python",
   "pygments_lexer": "ipython3",
   "version": "3.6.5"
  }
 },
 "nbformat": 4,
 "nbformat_minor": 2
}
