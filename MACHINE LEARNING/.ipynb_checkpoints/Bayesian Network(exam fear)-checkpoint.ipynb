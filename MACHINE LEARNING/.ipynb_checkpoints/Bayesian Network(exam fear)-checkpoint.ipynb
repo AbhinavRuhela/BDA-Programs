{
 "cells": [
  {
   "cell_type": "code",
   "execution_count": 0,
   "metadata": {
    "colab": {},
    "colab_type": "code",
    "id": "IId2DMwiaD73"
   },
   "outputs": [],
   "source": [
    "!pip install pgmpy"
   ]
  },
  {
   "cell_type": "code",
   "execution_count": 0,
   "metadata": {
    "colab": {},
    "colab_type": "code",
    "id": "KWc8YpuggLuP"
   },
   "outputs": [],
   "source": [
    "from pgmpy.models import BayesianModel\n",
    "from pgmpy.factors.discrete import TabularCPD"
   ]
  },
  {
   "cell_type": "code",
   "execution_count": 0,
   "metadata": {
    "colab": {},
    "colab_type": "code",
    "id": "AgFeVEHmaMN6"
   },
   "outputs": [],
   "source": [
    "BN = BayesianModel([('B','A'),('B','R'),('A','S'),('R','S')])\n"
   ]
  },
  {
   "cell_type": "code",
   "execution_count": 0,
   "metadata": {
    "colab": {},
    "colab_type": "code",
    "id": "SAdNy7h4bYiP"
   },
   "outputs": [],
   "source": [
    "cpd_B = TabularCPD('B', 2, values=[[.50], [.50]])\n",
    "cpd_R = TabularCPD('R', 2, values=[[.2,.7], [.8,.3]],evidence=['B'], evidence_card=[2])\n",
    "cpd_A = TabularCPD('A', 2, values=[[.5,.9], [.5,.1]],evidence=['B'], evidence_card=[2])\n",
    "cpd_S = TabularCPD('S', 2, values=[[0, .4, .2, 1], [1, .6, .8, 0]],\n",
    "                   evidence=['R', 'A'], evidence_card=[2, 2])"
   ]
  },
  {
   "cell_type": "code",
   "execution_count": 0,
   "metadata": {
    "colab": {},
    "colab_type": "code",
    "id": "FnRQqWGCbFxB"
   },
   "outputs": [],
   "source": [
    "BN.add_cpds(cpd_B, cpd_R, cpd_A, cpd_S)"
   ]
  },
  {
   "cell_type": "code",
   "execution_count": 0,
   "metadata": {
    "colab": {
     "base_uri": "https://localhost:8080/",
     "height": 34
    },
    "colab_type": "code",
    "executionInfo": {
     "elapsed": 1653,
     "status": "ok",
     "timestamp": 1586712941614,
     "user": {
      "displayName": "Anshuman yadav",
      "photoUrl": "https://lh3.googleusercontent.com/a-/AOh14GjpBax8cA3JmRScN2a9lniCbDmZQUuFbKwtahPRdQ=s64",
      "userId": "17517858382887396597"
     },
     "user_tz": -330
    },
    "id": "1MawnuD2dQ3x",
    "outputId": "a43d6c68-1bac-42a3-d03d-8036d222d857"
   },
   "outputs": [
    {
     "name": "stdout",
     "output_type": "stream",
     "text": [
      "Model is Correct\n"
     ]
    }
   ],
   "source": [
    "if(BN.check_model()):\n",
    "  print(\"Model is Correct\")"
   ]
  },
  {
   "cell_type": "markdown",
   "metadata": {
    "colab_type": "text",
    "id": "-lx3N5IFdlVn"
   },
   "source": [
    "**Inference Making**"
   ]
  },
  {
   "cell_type": "code",
   "execution_count": 0,
   "metadata": {
    "colab": {},
    "colab_type": "code",
    "id": "P_CXOwAldqrL"
   },
   "outputs": [],
   "source": [
    "from pgmpy.inference import VariableElimination"
   ]
  },
  {
   "cell_type": "code",
   "execution_count": 0,
   "metadata": {
    "colab": {},
    "colab_type": "code",
    "id": "8FCO_VAud5vn"
   },
   "outputs": [],
   "source": [
    "inf = VariableElimination(BN)"
   ]
  },
  {
   "cell_type": "code",
   "execution_count": 0,
   "metadata": {
    "colab": {
     "base_uri": "https://localhost:8080/",
     "height": 175
    },
    "colab_type": "code",
    "executionInfo": {
     "elapsed": 1380,
     "status": "ok",
     "timestamp": 1586713138402,
     "user": {
      "displayName": "Anshuman yadav",
      "photoUrl": "https://lh3.googleusercontent.com/a-/AOh14GjpBax8cA3JmRScN2a9lniCbDmZQUuFbKwtahPRdQ=s64",
      "userId": "17517858382887396597"
     },
     "user_tz": -330
    },
    "id": "zNsvXpgZdzMp",
    "outputId": "4dcaa3b1-86cf-44a8-9d4e-cffdf46e9b20"
   },
   "outputs": [
    {
     "name": "stderr",
     "output_type": "stream",
     "text": [
      "Finding Elimination Order: : 100%|██████████| 2/2 [00:00<00:00, 1184.33it/s]\n",
      "Eliminating: R: 100%|██████████| 2/2 [00:00<00:00, 309.20it/s]"
     ]
    },
    {
     "name": "stdout",
     "output_type": "stream",
     "text": [
      "S| B +------+----------+\n",
      "| S    |   phi(S) |\n",
      "+======+==========+\n",
      "| S(0) |   0.1120 |\n",
      "+------+----------+\n",
      "| S(1) |   0.8880 |\n",
      "+------+----------+\n"
     ]
    },
    {
     "name": "stderr",
     "output_type": "stream",
     "text": [
      "\n"
     ]
    }
   ],
   "source": [
    "result = inf.query(variables=['S'], evidence={'B': 1})\n",
    "print(\"S| B\", result)"
   ]
  },
  {
   "cell_type": "code",
   "execution_count": 0,
   "metadata": {
    "colab": {
     "base_uri": "https://localhost:8080/",
     "height": 175
    },
    "colab_type": "code",
    "executionInfo": {
     "elapsed": 659,
     "status": "ok",
     "timestamp": 1586713091822,
     "user": {
      "displayName": "Anshuman yadav",
      "photoUrl": "https://lh3.googleusercontent.com/a-/AOh14GjpBax8cA3JmRScN2a9lniCbDmZQUuFbKwtahPRdQ=s64",
      "userId": "17517858382887396597"
     },
     "user_tz": -330
    },
    "id": "xaoXTZO9d3Ox",
    "outputId": "a59e32d7-6e42-4c74-b791-06e6de7e5eaf"
   },
   "outputs": [
    {
     "name": "stderr",
     "output_type": "stream",
     "text": [
      "Finding Elimination Order: : 100%|██████████| 2/2 [00:00<00:00, 249.90it/s]\n",
      "Eliminating: B: 100%|██████████| 2/2 [00:00<00:00, 213.72it/s]"
     ]
    },
    {
     "name": "stdout",
     "output_type": "stream",
     "text": [
      "R| S +------+----------+\n",
      "| R    |   phi(R) |\n",
      "+======+==========+\n",
      "| R(0) |   0.6082 |\n",
      "+------+----------+\n",
      "| R(1) |   0.3918 |\n",
      "+------+----------+\n"
     ]
    },
    {
     "name": "stderr",
     "output_type": "stream",
     "text": [
      "\n"
     ]
    }
   ],
   "source": [
    "result = inf.query(variables=['R'], evidence={'S': 1})\n",
    "print(\"R| S\", result)"
   ]
  },
  {
   "cell_type": "code",
   "execution_count": 0,
   "metadata": {
    "colab": {
     "base_uri": "https://localhost:8080/",
     "height": 175
    },
    "colab_type": "code",
    "executionInfo": {
     "elapsed": 1453,
     "status": "ok",
     "timestamp": 1586713106787,
     "user": {
      "displayName": "Anshuman yadav",
      "photoUrl": "https://lh3.googleusercontent.com/a-/AOh14GjpBax8cA3JmRScN2a9lniCbDmZQUuFbKwtahPRdQ=s64",
      "userId": "17517858382887396597"
     },
     "user_tz": -330
    },
    "id": "0Yut5Nr-eFfD",
    "outputId": "f7c42068-1b4c-4834-f6b1-5b5d7668d35c"
   },
   "outputs": [
    {
     "name": "stderr",
     "output_type": "stream",
     "text": [
      "Finding Elimination Order: : 100%|██████████| 2/2 [00:00<00:00, 207.79it/s]\n",
      "Eliminating: B: 100%|██████████| 2/2 [00:00<00:00, 263.48it/s]"
     ]
    },
    {
     "name": "stdout",
     "output_type": "stream",
     "text": [
      "A| S +------+----------+\n",
      "| A    |   phi(A) |\n",
      "+======+==========+\n",
      "| A(0) |   0.9254 |\n",
      "+------+----------+\n",
      "| A(1) |   0.0746 |\n",
      "+------+----------+\n"
     ]
    },
    {
     "name": "stderr",
     "output_type": "stream",
     "text": [
      "\n"
     ]
    }
   ],
   "source": [
    "result = inf.query(variables=['A'], evidence={'S': 1})\n",
    "print(\"A| S\", result)"
   ]
  },
  {
   "cell_type": "code",
   "execution_count": 0,
   "metadata": {
    "colab": {},
    "colab_type": "code",
    "id": "IYWCaGWTeJJi"
   },
   "outputs": [],
   "source": []
  }
 ],
 "metadata": {
  "colab": {
   "authorship_tag": "ABX9TyMtgjjMXetDvU34/aXfOiS/",
   "collapsed_sections": [],
   "name": "Bayesian Network(exam fear).ipynb",
   "provenance": []
  },
  "kernelspec": {
   "display_name": "Python 3",
   "language": "python",
   "name": "python3"
  },
  "language_info": {
   "codemirror_mode": {
    "name": "ipython",
    "version": 3
   },
   "file_extension": ".py",
   "mimetype": "text/x-python",
   "name": "python",
   "nbconvert_exporter": "python",
   "pygments_lexer": "ipython3",
   "version": "3.6.5"
  }
 },
 "nbformat": 4,
 "nbformat_minor": 1
}
