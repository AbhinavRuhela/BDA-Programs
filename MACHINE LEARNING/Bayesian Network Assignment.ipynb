{
 "cells": [
  {
   "cell_type": "code",
   "execution_count": 1,
   "metadata": {},
   "outputs": [],
   "source": [
    "import math\n",
    "from pomegranate import *"
   ]
  },
  {
   "cell_type": "code",
   "execution_count": 2,
   "metadata": {},
   "outputs": [],
   "source": [
    "A = DiscreteDistribution({'ON': 2./3,'OFF': 1./3})"
   ]
  },
  {
   "cell_type": "code",
   "execution_count": 3,
   "metadata": {},
   "outputs": [],
   "source": [
    "B = ConditionalProbabilityTable(\n",
    "                                [['ON','ON', 0.9],\n",
    "                                 ['ON','OFF',0.1],\n",
    "                                 ['OFF','ON',0.1],\n",
    "                                 ['OFF','OFF',0.9]\n",
    "                                ],\n",
    "                                 [A]\n",
    "                               )"
   ]
  },
  {
   "cell_type": "code",
   "execution_count": 4,
   "metadata": {},
   "outputs": [],
   "source": [
    "C = ConditionalProbabilityTable(\n",
    "                                [['ON','ON', 0.2],\n",
    "                                 ['ON','OFF',0.8],\n",
    "                                 ['OFF','ON',0.8],\n",
    "                                 ['OFF','OFF',0.2]\n",
    "                                ],\n",
    "                                 [A]\n",
    "                               )"
   ]
  },
  {
   "cell_type": "code",
   "execution_count": 5,
   "metadata": {},
   "outputs": [],
   "source": [
    "table = [['ON','ON','ON',0.95],\n",
    "         ['ON','ON','OFF',0.05],\n",
    "         ['ON','OFF','ON',0.9],\n",
    "         ['ON','OFF','OFF',0.1],\n",
    "         ['OFF','ON','ON',0.3],\n",
    "         ['OFF','ON','OFF',0.7],\n",
    "         ['OFF','OFF','ON',0.1],\n",
    "         ['OFF','OFF','OFF',0.9]\n",
    "        ]\n",
    "\n",
    "         "
   ]
  },
  {
   "cell_type": "code",
   "execution_count": 6,
   "metadata": {},
   "outputs": [],
   "source": [
    "D = ConditionalProbabilityTable(\n",
    "                                table,\n",
    "                                 [A,B]\n",
    "                               )"
   ]
  },
  {
   "cell_type": "code",
   "execution_count": 7,
   "metadata": {},
   "outputs": [],
   "source": [
    "E = ConditionalProbabilityTable(\n",
    "                                [['ON','ON', 0.2],\n",
    "                                 ['ON','OFF',0.8],\n",
    "                                 ['OFF','ON',0.8],\n",
    "                                 ['OFF','OFF',0.2]\n",
    "                                ],\n",
    "                                 [D]\n",
    "                               )"
   ]
  },
  {
   "cell_type": "code",
   "execution_count": 8,
   "metadata": {},
   "outputs": [],
   "source": [
    "s1 = Node(A,name = \"A1\")\n",
    "s2 = Node(B,name = \"B1\")\n",
    "s3 = Node(C,name = \"C1\")\n",
    "s4 = Node(D,name = \"D1\")\n",
    "s5 = Node(E,name = \"E1\")"
   ]
  },
  {
   "cell_type": "code",
   "execution_count": 9,
   "metadata": {},
   "outputs": [],
   "source": [
    "network = BayesianNetwork(\"switch\")\n",
    "network.add_nodes(s1,s2,s3,s4,s5)\n",
    "network.add_edge(s1,s2)\n",
    "network.add_edge(s1,s3)\n",
    "network.add_edge(s1,s4)\n",
    "network.add_edge(s2,s4)\n",
    "network.add_edge(s4,s5)\n",
    "network.bake()"
   ]
  },
  {
   "cell_type": "code",
   "execution_count": 22,
   "metadata": {},
   "outputs": [
    {
     "name": "stdout",
     "output_type": "stream",
     "text": [
      "A1t{\n",
      "    \"class\" :\"Distribution\",\n",
      "    \"dtype\" :\"str\",\n",
      "    \"name\" :\"DiscreteDistribution\",\n",
      "    \"parameters\" :[\n",
      "        {\n",
      "            \"ON\" :0.6666666666666663,\n",
      "            \"OFF\" :0.3333333333333336\n",
      "        }\n",
      "    ],\n",
      "    \"frozen\" :false\n",
      "}nB1t{\n",
      "    \"class\" :\"Distribution\",\n",
      "    \"dtype\" :\"str\",\n",
      "    \"name\" :\"DiscreteDistribution\",\n",
      "    \"parameters\" :[\n",
      "        {\n",
      "            \"OFF\" :0.366666666666667,\n",
      "            \"ON\" :0.633333333333333\n",
      "        }\n",
      "    ],\n",
      "    \"frozen\" :false\n",
      "}nC1t{\n",
      "    \"class\" :\"Distribution\",\n",
      "    \"dtype\" :\"str\",\n",
      "    \"name\" :\"DiscreteDistribution\",\n",
      "    \"parameters\" :[\n",
      "        {\n",
      "            \"OFF\" :0.5999999999999998,\n",
      "            \"ON\" :0.4000000000000002\n",
      "        }\n",
      "    ],\n",
      "    \"frozen\" :false\n",
      "}nD1t{\n",
      "    \"class\" :\"Distribution\",\n",
      "    \"dtype\" :\"str\",\n",
      "    \"name\" :\"DiscreteDistribution\",\n",
      "    \"parameters\" :[\n",
      "        {\n",
      "            \"OFF\" :0.3033333333333337,\n",
      "            \"ON\" :0.6966666666666662\n",
      "        }\n",
      "    ],\n",
      "    \"frozen\" :false\n",
      "}nE1t{\n",
      "    \"class\" :\"Distribution\",\n",
      "    \"dtype\" :\"str\",\n",
      "    \"name\" :\"DiscreteDistribution\",\n",
      "    \"parameters\" :[\n",
      "        {\n",
      "            \"OFF\" :0.6179999999999998,\n",
      "            \"ON\" :0.3820000000000003\n",
      "        }\n",
      "    ],\n",
      "    \"frozen\" :false\n",
      "}\n"
     ]
    }
   ],
   "source": [
    "belief = network.predict_proba({'A':'ON', 'B': 'ON', 'C' : 'ON' , 'D' : 'ON' , 'E' : 'ON'})\n",
    "beliefs = map(str,belief)\n",
    "print(\"n\".join( \"{}t{}\".format( state.name, belief ) for state, belief in zip( network.states, beliefs ) ))"
   ]
  },
  {
   "cell_type": "markdown",
   "metadata": {},
   "source": [
    "# Calculate P(A=ON, B=ON, C=ON, D=ON, E=ON) :-"
   ]
  },
  {
   "cell_type": "code",
   "execution_count": 33,
   "metadata": {},
   "outputs": [
    {
     "name": "stdout",
     "output_type": "stream",
     "text": [
      "Probability of p(E)\n",
      " {\n",
      "    \"class\" :\"Distribution\",\n",
      "    \"dtype\" :\"str\",\n",
      "    \"name\" :\"DiscreteDistribution\",\n",
      "    \"parameters\" :[\n",
      "        {\n",
      "            \"OFF\" :0.6179999999999998,\n",
      "            \"ON\" :0.3820000000000003\n",
      "        }\n",
      "    ],\n",
      "    \"frozen\" :false\n",
      "}\n"
     ]
    }
   ],
   "source": [
    "print(\"Probability of p(E)\\n\",belief[4])"
   ]
  },
  {
   "cell_type": "code",
   "execution_count": null,
   "metadata": {},
   "outputs": [],
   "source": []
  }
 ],
 "metadata": {
  "kernelspec": {
   "display_name": "Python 3",
   "language": "python",
   "name": "python3"
  },
  "language_info": {
   "codemirror_mode": {
    "name": "ipython",
    "version": 3
   },
   "file_extension": ".py",
   "mimetype": "text/x-python",
   "name": "python",
   "nbconvert_exporter": "python",
   "pygments_lexer": "ipython3",
   "version": "3.7.3"
  }
 },
 "nbformat": 4,
 "nbformat_minor": 2
}
