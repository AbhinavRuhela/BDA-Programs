{
 "cells": [
  {
   "cell_type": "code",
   "execution_count": 1,
   "metadata": {},
   "outputs": [
    {
     "name": "stdout",
     "output_type": "stream",
     "text": [
      "   5.1  3.5  1.4  0.2  Iris-setosa\n",
      "0  4.9  3.0  1.4  0.2  Iris-setosa\n",
      "1  4.7  3.2  1.3  0.2  Iris-setosa\n",
      "2  4.6  3.1  1.5  0.2  Iris-setosa\n",
      "3  5.0  3.6  1.4  0.2  Iris-setosa\n",
      "4  5.4  3.9  1.7  0.4  Iris-setosa\n",
      "Iris-virginica\n",
      "[140]\n",
      "Iris-virginica\n",
      "[140, 144, 109]\n",
      "Iris-virginica\n",
      "[140, 144, 109, 114, 138, 146, 76, 147, 139, 111, 143]\n"
     ]
    }
   ],
   "source": [
    "import pandas as pd\n",
    "import numpy as np\n",
    "import operator\n",
    "\n",
    "# loading data file\n",
    "dataset = pd.read_csv(r'C:\\Users\\HP\\Desktop\\BDA PROGRAMS\\MACHINE LEARNING\\iris.data')\n",
    "print(dataset.head()) # prints first five tuples of your data.\n",
    "\n",
    "# making function for calculating euclidean distance\n",
    "def E_Distance(x1, x2, length):\n",
    "    distance = 0\n",
    "    for x in range(length):\n",
    "        distance += np.square(x1[x] - x2[x])\n",
    "    return np.sqrt(distance)\n",
    "\n",
    "# making function for defining K-NN model\n",
    "\n",
    "def knn(trainingSet, testInstance, k):\n",
    "    distances = {}\n",
    "    length = testInstance.shape[1]\n",
    "    for x in range(len(trainingSet)):\n",
    "        dist = E_Distance(testInstance, trainingSet.iloc[x], length)\n",
    "        distances[x] = dist[0]\n",
    "    sortdist = sorted(distances.items(), key=operator.itemgetter(1))\n",
    "    neighbors = []\n",
    "    for x in range(k):\n",
    "        neighbors.append(sortdist[x][0])\n",
    "    Count = {}  # to get most frequent class of rows\n",
    "    for x in range(len(neighbors)):\n",
    "        response = trainingSet.iloc[neighbors[x]][-1]\n",
    "        if response in Count:\n",
    "            Count[response] += 1\n",
    "        else:\n",
    "            Count[response] = 1\n",
    "    sortcount = sorted(Count.items(), key=operator.itemgetter(1), reverse=True)\n",
    "    return (sortcount[0][0], neighbors)\n",
    "\n",
    "# making test data set\n",
    "testSet = [[6.8, 3.4, 4.8, 2.4]]\n",
    "test = pd.DataFrame(testSet)\n",
    "\n",
    "# assigning different values to k\n",
    "k = 1\n",
    "k1 = 3\n",
    "k2 = 11\n",
    "\n",
    "# supplying test data to the model\n",
    "result, neigh = knn(dataset, test, k)\n",
    "result1, neigh1 = knn(dataset, test, k1)\n",
    "result2, neigh2 = knn(dataset, test, k2)\n",
    "\n",
    "# printing output prediction\n",
    "\n",
    "print(result)\n",
    "print(neigh)\n",
    "print(result1)\n",
    "print(neigh1)\n",
    "print(result2)\n",
    "print(neigh2)"
   ]
  },
  {
   "cell_type": "code",
   "execution_count": null,
   "metadata": {},
   "outputs": [],
   "source": []
  }
 ],
 "metadata": {
  "kernelspec": {
   "display_name": "Python 3",
   "language": "python",
   "name": "python3"
  },
  "language_info": {
   "codemirror_mode": {
    "name": "ipython",
    "version": 3
   },
   "file_extension": ".py",
   "mimetype": "text/x-python",
   "name": "python",
   "nbconvert_exporter": "python",
   "pygments_lexer": "ipython3",
   "version": "3.6.5"
  }
 },
 "nbformat": 4,
 "nbformat_minor": 2
}
