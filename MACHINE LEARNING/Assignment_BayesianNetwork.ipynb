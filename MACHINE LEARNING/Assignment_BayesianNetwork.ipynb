{
  "nbformat": 4,
  "nbformat_minor": 0,
  "metadata": {
    "colab": {
      "name": "Assignment_BayesianNetwork.ipynb",
      "provenance": [],
      "collapsed_sections": []
    },
    "kernelspec": {
      "name": "python3",
      "display_name": "Python 3"
    }
  },
  "cells": [
    {
      "cell_type": "code",
      "metadata": {
        "id": "cPUNFnhF6ozH",
        "colab_type": "code",
        "colab": {
          "base_uri": "https://localhost:8080/",
          "height": 360
        },
        "outputId": "4942f49b-9804-4cfa-fae2-d964ff5cd977"
      },
      "source": [
        "!pip install pgmpy"
      ],
      "execution_count": 1,
      "outputs": [
        {
          "output_type": "stream",
          "text": [
            "Collecting pgmpy\n",
            "\u001b[?25l  Downloading https://files.pythonhosted.org/packages/68/6b/661a65aa7788f3aff7228ba81625c540917d656f41e3eb031c6d60b0a25d/pgmpy-0.1.10-py3-none-any.whl (339kB)\n",
            "\r\u001b[K     |█                               | 10kB 17.7MB/s eta 0:00:01\r\u001b[K     |██                              | 20kB 1.7MB/s eta 0:00:01\r\u001b[K     |███                             | 30kB 2.3MB/s eta 0:00:01\r\u001b[K     |███▉                            | 40kB 1.7MB/s eta 0:00:01\r\u001b[K     |████▉                           | 51kB 1.8MB/s eta 0:00:01\r\u001b[K     |█████▉                          | 61kB 2.2MB/s eta 0:00:01\r\u001b[K     |██████▊                         | 71kB 2.4MB/s eta 0:00:01\r\u001b[K     |███████▊                        | 81kB 2.5MB/s eta 0:00:01\r\u001b[K     |████████▊                       | 92kB 2.8MB/s eta 0:00:01\r\u001b[K     |█████████▋                      | 102kB 2.7MB/s eta 0:00:01\r\u001b[K     |██████████▋                     | 112kB 2.7MB/s eta 0:00:01\r\u001b[K     |███████████▋                    | 122kB 2.7MB/s eta 0:00:01\r\u001b[K     |████████████▌                   | 133kB 2.7MB/s eta 0:00:01\r\u001b[K     |█████████████▌                  | 143kB 2.7MB/s eta 0:00:01\r\u001b[K     |██████████████▌                 | 153kB 2.7MB/s eta 0:00:01\r\u001b[K     |███████████████▌                | 163kB 2.7MB/s eta 0:00:01\r\u001b[K     |████████████████▍               | 174kB 2.7MB/s eta 0:00:01\r\u001b[K     |█████████████████▍              | 184kB 2.7MB/s eta 0:00:01\r\u001b[K     |██████████████████▍             | 194kB 2.7MB/s eta 0:00:01\r\u001b[K     |███████████████████▎            | 204kB 2.7MB/s eta 0:00:01\r\u001b[K     |████████████████████▎           | 215kB 2.7MB/s eta 0:00:01\r\u001b[K     |█████████████████████▎          | 225kB 2.7MB/s eta 0:00:01\r\u001b[K     |██████████████████████▏         | 235kB 2.7MB/s eta 0:00:01\r\u001b[K     |███████████████████████▏        | 245kB 2.7MB/s eta 0:00:01\r\u001b[K     |████████████████████████▏       | 256kB 2.7MB/s eta 0:00:01\r\u001b[K     |█████████████████████████       | 266kB 2.7MB/s eta 0:00:01\r\u001b[K     |██████████████████████████      | 276kB 2.7MB/s eta 0:00:01\r\u001b[K     |███████████████████████████     | 286kB 2.7MB/s eta 0:00:01\r\u001b[K     |████████████████████████████    | 296kB 2.7MB/s eta 0:00:01\r\u001b[K     |█████████████████████████████   | 307kB 2.7MB/s eta 0:00:01\r\u001b[K     |██████████████████████████████  | 317kB 2.7MB/s eta 0:00:01\r\u001b[K     |███████████████████████████████ | 327kB 2.7MB/s eta 0:00:01\r\u001b[K     |███████████████████████████████▉| 337kB 2.7MB/s eta 0:00:01\r\u001b[K     |████████████████████████████████| 348kB 2.7MB/s \n",
            "\u001b[?25hRequirement already satisfied: joblib in /usr/local/lib/python3.6/dist-packages (from pgmpy) (0.14.1)\n",
            "Requirement already satisfied: pandas in /usr/local/lib/python3.6/dist-packages (from pgmpy) (1.0.3)\n",
            "Requirement already satisfied: scipy in /usr/local/lib/python3.6/dist-packages (from pgmpy) (1.4.1)\n",
            "Requirement already satisfied: torch in /usr/local/lib/python3.6/dist-packages (from pgmpy) (1.4.0)\n",
            "Requirement already satisfied: tqdm in /usr/local/lib/python3.6/dist-packages (from pgmpy) (4.38.0)\n",
            "Requirement already satisfied: statsmodels in /usr/local/lib/python3.6/dist-packages (from pgmpy) (0.10.2)\n",
            "Requirement already satisfied: numpy in /usr/local/lib/python3.6/dist-packages (from pgmpy) (1.18.2)\n",
            "Requirement already satisfied: networkx in /usr/local/lib/python3.6/dist-packages (from pgmpy) (2.4)\n",
            "Requirement already satisfied: pyparsing in /usr/local/lib/python3.6/dist-packages (from pgmpy) (2.4.6)\n",
            "Requirement already satisfied: python-dateutil>=2.6.1 in /usr/local/lib/python3.6/dist-packages (from pandas->pgmpy) (2.8.1)\n",
            "Requirement already satisfied: pytz>=2017.2 in /usr/local/lib/python3.6/dist-packages (from pandas->pgmpy) (2018.9)\n",
            "Requirement already satisfied: patsy>=0.4.0 in /usr/local/lib/python3.6/dist-packages (from statsmodels->pgmpy) (0.5.1)\n",
            "Requirement already satisfied: decorator>=4.3.0 in /usr/local/lib/python3.6/dist-packages (from networkx->pgmpy) (4.4.2)\n",
            "Requirement already satisfied: six>=1.5 in /usr/local/lib/python3.6/dist-packages (from python-dateutil>=2.6.1->pandas->pgmpy) (1.12.0)\n",
            "Installing collected packages: pgmpy\n",
            "Successfully installed pgmpy-0.1.10\n"
          ],
          "name": "stdout"
        }
      ]
    },
    {
      "cell_type": "code",
      "metadata": {
        "id": "X35aDiwD6vza",
        "colab_type": "code",
        "colab": {}
      },
      "source": [
        "from pgmpy.models import BayesianModel\n",
        "from pgmpy.factors.discrete import TabularCPD\n",
        "from pgmpy.inference import VariableElimination\n",
        "import numpy as np"
      ],
      "execution_count": 0,
      "outputs": []
    },
    {
      "cell_type": "markdown",
      "metadata": {
        "id": "fM4DTk7i_sa8",
        "colab_type": "text"
      },
      "source": [
        "# Setting up your model"
      ]
    },
    {
      "cell_type": "markdown",
      "metadata": {
        "id": "WFofrp6X_tX2",
        "colab_type": "text"
      },
      "source": [
        "### First, set the structure"
      ]
    },
    {
      "cell_type": "code",
      "metadata": {
        "id": "4SwtgcJ56xZa",
        "colab_type": "code",
        "colab": {}
      },
      "source": [
        "bayesNet = BayesianModel()\n",
        "bayesNet.add_node(\"B\")\n",
        "bayesNet.add_node(\"A\")\n",
        "bayesNet.add_node(\"R\")\n",
        "\n",
        "bayesNet.add_node(\"S\")\n",
        "\n",
        "bayesNet.add_edge(\"B\", \"A\")\n",
        "bayesNet.add_edge(\"B\", \"R\")\n",
        "bayesNet.add_edge(\"A\", \"S\")\n",
        "\n",
        "bayesNet.add_edge(\"R\", \"S\")"
      ],
      "execution_count": 0,
      "outputs": []
    },
    {
      "cell_type": "markdown",
      "metadata": {
        "id": "sifXu4Mo_2hw",
        "colab_type": "text"
      },
      "source": [
        "### Then set up the relationships"
      ]
    },
    {
      "cell_type": "code",
      "metadata": {
        "id": "EaAMe9hh7Aji",
        "colab_type": "code",
        "colab": {}
      },
      "source": [
        "cpd_B = TabularCPD('B', 2, values=[[.50], [.50]])\n",
        "cpd_R = TabularCPD('R', 2, values=[[.2,.7], [.8,.3]],evidence=['B'], evidence_card=[2])\n",
        "cpd_A = TabularCPD('A', 2, values=[[.5,.9], [.5,.1]],evidence=['B'], evidence_card=[2])\n",
        "cpd_S = TabularCPD('S', 2, values=[[0, .4, .2, 1], [1, .6, .8, 0]],\n",
        "                   evidence=['R', 'A'], evidence_card=[2, 2])"
      ],
      "execution_count": 0,
      "outputs": []
    },
    {
      "cell_type": "markdown",
      "metadata": {
        "id": "SxhxAsg0__Ki",
        "colab_type": "text"
      },
      "source": [
        "### Add the relationships to your models"
      ]
    },
    {
      "cell_type": "code",
      "metadata": {
        "id": "OpK0Itbf83OA",
        "colab_type": "code",
        "colab": {}
      },
      "source": [
        "bayesNet.add_cpds(cpd_B, cpd_R, cpd_A, cpd_S )"
      ],
      "execution_count": 0,
      "outputs": []
    },
    {
      "cell_type": "markdown",
      "metadata": {
        "id": "LnwluG74ABvk",
        "colab_type": "text"
      },
      "source": [
        "### Examine your graph"
      ]
    },
    {
      "cell_type": "code",
      "metadata": {
        "id": "hXNf-shP9CZM",
        "colab_type": "code",
        "colab": {
          "base_uri": "https://localhost:8080/",
          "height": 34
        },
        "outputId": "655c568a-74c8-4117-b315-255381097663"
      },
      "source": [
        "bayesNet.check_model()\n",
        "print(\"Model is correct.\")"
      ],
      "execution_count": 8,
      "outputs": [
        {
          "output_type": "stream",
          "text": [
            "Model is correct.\n"
          ],
          "name": "stdout"
        }
      ]
    },
    {
      "cell_type": "markdown",
      "metadata": {
        "id": "x8HtdMnYANC3",
        "colab_type": "text"
      },
      "source": [
        "# Making inferences"
      ]
    },
    {
      "cell_type": "code",
      "metadata": {
        "id": "61WTQ8Ty9Jb6",
        "colab_type": "code",
        "colab": {}
      },
      "source": [
        "solver = VariableElimination(bayesNet)"
      ],
      "execution_count": 0,
      "outputs": []
    },
    {
      "cell_type": "code",
      "metadata": {
        "id": "yg3_740P9OaD",
        "colab_type": "code",
        "colab": {
          "base_uri": "https://localhost:8080/",
          "height": 170
        },
        "outputId": "c91a5abe-ab3e-4f15-96ca-c5a465824106"
      },
      "source": [
        "result = solver.query(variables=['S'], evidence={'B': 1})\n",
        "print(\"S| B\", result)\n"
      ],
      "execution_count": 13,
      "outputs": [
        {
          "output_type": "stream",
          "text": [
            "Finding Elimination Order: : 100%|██████████| 2/2 [00:00<00:00, 589.58it/s]\n",
            "Eliminating: A: 100%|██████████| 2/2 [00:00<00:00, 259.39it/s]"
          ],
          "name": "stderr"
        },
        {
          "output_type": "stream",
          "text": [
            "S| B +------+----------+\n",
            "| S    |   phi(S) |\n",
            "+======+==========+\n",
            "| S(0) |   0.1120 |\n",
            "+------+----------+\n",
            "| S(1) |   0.8880 |\n",
            "+------+----------+\n"
          ],
          "name": "stdout"
        },
        {
          "output_type": "stream",
          "text": [
            "\n"
          ],
          "name": "stderr"
        }
      ]
    },
    {
      "cell_type": "code",
      "metadata": {
        "id": "ywcZBsGS913H",
        "colab_type": "code",
        "colab": {
          "base_uri": "https://localhost:8080/",
          "height": 170
        },
        "outputId": "a57fad09-3b1d-4530-ce82-fa8f71b1ecdb"
      },
      "source": [
        "result = solver.query(variables=['R'], evidence={'S': 1})\n",
        "print(\"R| S\", result)"
      ],
      "execution_count": 15,
      "outputs": [
        {
          "output_type": "stream",
          "text": [
            "Finding Elimination Order: : 100%|██████████| 2/2 [00:00<00:00, 673.08it/s]\n",
            "Eliminating: B: 100%|██████████| 2/2 [00:00<00:00, 393.48it/s]"
          ],
          "name": "stderr"
        },
        {
          "output_type": "stream",
          "text": [
            "R| S +------+----------+\n",
            "| R    |   phi(R) |\n",
            "+======+==========+\n",
            "| R(0) |   0.6082 |\n",
            "+------+----------+\n",
            "| R(1) |   0.3918 |\n",
            "+------+----------+\n"
          ],
          "name": "stdout"
        },
        {
          "output_type": "stream",
          "text": [
            "\n"
          ],
          "name": "stderr"
        }
      ]
    },
    {
      "cell_type": "code",
      "metadata": {
        "id": "89LP6gVI-26_",
        "colab_type": "code",
        "colab": {
          "base_uri": "https://localhost:8080/",
          "height": 170
        },
        "outputId": "740d2e70-f0e2-42dd-b802-376bf6e1dc3e"
      },
      "source": [
        "result = solver.query(variables=['A'], evidence={'S': 1})\n",
        "print(\"A| S\", result)"
      ],
      "execution_count": 16,
      "outputs": [
        {
          "output_type": "stream",
          "text": [
            "Finding Elimination Order: : 100%|██████████| 2/2 [00:00<00:00, 1325.63it/s]\n",
            "Eliminating: B: 100%|██████████| 2/2 [00:00<00:00, 400.60it/s]"
          ],
          "name": "stderr"
        },
        {
          "output_type": "stream",
          "text": [
            "A| S +------+----------+\n",
            "| A    |   phi(A) |\n",
            "+======+==========+\n",
            "| A(0) |   0.9254 |\n",
            "+------+----------+\n",
            "| A(1) |   0.0746 |\n",
            "+------+----------+\n"
          ],
          "name": "stdout"
        },
        {
          "output_type": "stream",
          "text": [
            "\n"
          ],
          "name": "stderr"
        }
      ]
    },
    {
      "cell_type": "markdown",
      "metadata": {
        "id": "naPrU36eAP9O",
        "colab_type": "text"
      },
      "source": [
        "### Get all independencies"
      ]
    },
    {
      "cell_type": "code",
      "metadata": {
        "id": "bgMZlhkG_XYd",
        "colab_type": "code",
        "colab": {
          "base_uri": "https://localhost:8080/",
          "height": 85
        },
        "outputId": "564b9bbd-f32a-4539-cbad-0ee235b3218f"
      },
      "source": [
        "bayesNet.get_independencies()"
      ],
      "execution_count": 17,
      "outputs": [
        {
          "output_type": "execute_result",
          "data": {
            "text/plain": [
              "(B _|_ S | R, A)\n",
              "(A _|_ R | B)\n",
              "(R _|_ A | B)\n",
              "(S _|_ B | R, A)"
            ]
          },
          "metadata": {
            "tags": []
          },
          "execution_count": 17
        }
      ]
    }
  ]
}