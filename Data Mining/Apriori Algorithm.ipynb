{
 "cells": [
  {
   "cell_type": "markdown",
   "metadata": {},
   "source": [
    "## Apriori Algorithm"
   ]
  },
  {
   "cell_type": "code",
   "execution_count": 11,
   "metadata": {},
   "outputs": [],
   "source": [
    "def Apriori_gen(Itemset, length):\n",
    "    canditate = []\n",
    "    canditate_index = 0\n",
    "    for i in range (0,length):\n",
    "        element = str(Itemset[i])\n",
    "        for j in range (i+1,length):\n",
    "            element1 = str(Itemset[j])\n",
    "            if element[0:(len(element)-1)] == element1[0:(len(element1)-1)]:\n",
    "                    unionset = element[0:(len(element)-1)]+element1[len(element1)-1]+element[len(element)-1] #Combine (k-1)-Itemset to k-Itemset \n",
    "                    unionset = ''.join(sorted(unionset))  #Sort itemset by dict order\n",
    "                    canditate.append(unionset)\n",
    "    return canditate"
   ]
  },
  {
   "cell_type": "code",
   "execution_count": 12,
   "metadata": {},
   "outputs": [],
   "source": [
    "def Apriori_prune(Ck,MinSupport):\n",
    "    L = []\n",
    "    for i in Ck:\n",
    "        if Ck[i] >= minsupport:\n",
    "            L.append(i)\n",
    "    return sorted(L)"
   ]
  },
  {
   "cell_type": "code",
   "execution_count": 15,
   "metadata": {},
   "outputs": [],
   "source": [
    "def Apriori_count_subset(Canditate,Canditate_len):\n",
    "    Lk = dict()\n",
    "    file = open(r'C:\\Users\\HP\\Desktop\\BDA PROGRAMS\\Data Mining\\example.txt')\n",
    "    for l in file:\n",
    "        l = str(l.split())\n",
    "        count = 0\n",
    "        for i in range (0,Canditate_len):\n",
    "            key = str(Canditate[i])\n",
    "            if key not in Lk:\n",
    "                Lk[key] = 0\n",
    "            flag = True\n",
    "            for k in key:\n",
    "                if k not in l:\n",
    "                    flag = False\n",
    "            if flag:\n",
    "                Lk[key] += 1\n",
    "    file.close()\n",
    "    return Lk"
   ]
  },
  {
   "cell_type": "code",
   "execution_count": 16,
   "metadata": {},
   "outputs": [
    {
     "name": "stdout",
     "output_type": "stream",
     "text": [
      "====================================\n",
      "Frequent 1-itemset is ['a', 'b', 'c', 'f', 'm', 'p']\n",
      "====================================\n",
      "====================================\n",
      "Frequent 2 -itemset is ['ac', 'af', 'am', 'cf', 'cm', 'cp', 'fm']\n",
      "====================================\n",
      "====================================\n",
      "Frequent 3 -itemset is ['acf', 'acm', 'afm', 'cfm']\n",
      "====================================\n",
      "====================================\n",
      "Frequent 4 -itemset is ['acfm']\n",
      "====================================\n"
     ]
    }
   ],
   "source": [
    "minsupport = 3\n",
    "C1={} \n",
    "file = open(r'C:\\Users\\HP\\Desktop\\BDA PROGRAMS\\Data Mining\\example.txt')\n",
    "\"\"\"Count one canditate\"\"\"\n",
    "for line in file:\n",
    "    for item in line.split():\n",
    "        if item in C1:\n",
    "            C1[item] +=1\n",
    "        else:\n",
    "            C1[item] = 1\n",
    "file.close()\n",
    "sorted(C1.keys())\n",
    "L = []\n",
    "L1 = Apriori_prune(C1,minsupport)\n",
    "L = Apriori_gen(L1,len(L1))\n",
    "print ('====================================')\n",
    "print ('Frequent 1-itemset is',L1)\n",
    "print ('====================================')\n",
    "k=2\n",
    "while L != []:\n",
    "    C = dict()\n",
    "    C = Apriori_count_subset(L,len(L))\n",
    "    fruquent_itemset = []\n",
    "    fruquent_itemset = Apriori_prune(C,minsupport)\n",
    "    print ('====================================')\n",
    "    print ('Frequent',k,'-itemset is',fruquent_itemset)\n",
    "    print ('====================================')\n",
    "    L = Apriori_gen(fruquent_itemset,len(fruquent_itemset))\n",
    "    k += 1"
   ]
  },
  {
   "cell_type": "code",
   "execution_count": null,
   "metadata": {},
   "outputs": [],
   "source": []
  }
 ],
 "metadata": {
  "kernelspec": {
   "display_name": "Python 3",
   "language": "python",
   "name": "python3"
  },
  "language_info": {
   "codemirror_mode": {
    "name": "ipython",
    "version": 3
   },
   "file_extension": ".py",
   "mimetype": "text/x-python",
   "name": "python",
   "nbconvert_exporter": "python",
   "pygments_lexer": "ipython3",
   "version": "3.6.5"
  }
 },
 "nbformat": 4,
 "nbformat_minor": 4
}
